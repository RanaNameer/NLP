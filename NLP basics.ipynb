{
  "nbformat": 4,
  "nbformat_minor": 0,
  "metadata": {
    "colab": {
      "provenance": []
    },
    "kernelspec": {
      "name": "python3",
      "display_name": "Python 3"
    },
    "language_info": {
      "name": "python"
    }
  },
  "cells": [
    {
      "cell_type": "code",
      "execution_count": 1,
      "metadata": {
        "id": "5dq9JpFlCDmV",
        "colab": {
          "base_uri": "https://localhost:8080/"
        },
        "outputId": "b3eca158-667b-4380-ddf5-c369f7a3483b"
      },
      "outputs": [
        {
          "output_type": "stream",
          "name": "stderr",
          "text": [
            "[nltk_data] Downloading package stopwords to /root/nltk_data...\n",
            "[nltk_data]   Unzipping corpora/stopwords.zip.\n",
            "[nltk_data] Downloading package punkt to /root/nltk_data...\n",
            "[nltk_data]   Unzipping tokenizers/punkt.zip.\n"
          ]
        },
        {
          "output_type": "execute_result",
          "data": {
            "text/plain": [
              "True"
            ]
          },
          "metadata": {},
          "execution_count": 1
        }
      ],
      "source": [
        "import nltk\n",
        "nltk.download('stopwords')\n",
        "nltk.download('punkt')"
      ]
    },
    {
      "cell_type": "code",
      "source": [
        "from nltk.tokenize import sent_tokenize, word_tokenize\n",
        "from nltk.corpus import stopwords"
      ],
      "metadata": {
        "id": "aaaBKRJv4Ve8"
      },
      "execution_count": 2,
      "outputs": []
    },
    {
      "cell_type": "code",
      "source": [
        "example_string = \"\"\"\n",
        "... Muad'Dib learned rapidly because his first training was in how to learn.\n",
        "... And the first lesson of all was the basic trust that he could learn.\n",
        "... It's shocking to find how many people do not believe they can learn,\n",
        "... and how many more believe learning to be difficult.\"\"\""
      ],
      "metadata": {
        "id": "0ShwEnlFF2KI"
      },
      "execution_count": 3,
      "outputs": []
    },
    {
      "cell_type": "code",
      "source": [
        "sentence_tokenize = sent_tokenize(example_string)"
      ],
      "metadata": {
        "id": "pS_0jsHUF-rq"
      },
      "execution_count": 4,
      "outputs": []
    },
    {
      "cell_type": "code",
      "source": [
        "for i in range(len(sentence_tokenize)):\n",
        "  print(sentence_tokenize[i])"
      ],
      "metadata": {
        "colab": {
          "base_uri": "https://localhost:8080/"
        },
        "id": "K86tDltOG0Cf",
        "outputId": "70a35cea-98fd-4a85-a930-e2e972eb1484"
      },
      "execution_count": 5,
      "outputs": [
        {
          "output_type": "stream",
          "name": "stdout",
          "text": [
            "\n",
            "Muad'Dib learned rapidly because his first training was in how to learn.\n",
            "And the first lesson of all was the basic trust that he could learn.\n",
            "It's shocking to find how many people do not believe they can learn,\n",
            "and how many more believe learning to be difficult.\n"
          ]
        }
      ]
    },
    {
      "cell_type": "code",
      "source": [
        "word_in_string = word_tokenize(example_string)"
      ],
      "metadata": {
        "id": "Y5noI61hHFDS"
      },
      "execution_count": 6,
      "outputs": []
    },
    {
      "cell_type": "code",
      "source": [
        "for i in range(len(word_in_string)):\n",
        "  print(word_in_string[i])"
      ],
      "metadata": {
        "colab": {
          "base_uri": "https://localhost:8080/"
        },
        "id": "jf2I-RxMHWQP",
        "outputId": "97c8fb81-a956-4e2b-ce5e-74d1c05d3b56"
      },
      "execution_count": 7,
      "outputs": [
        {
          "output_type": "stream",
          "name": "stdout",
          "text": [
            "Muad'Dib\n",
            "learned\n",
            "rapidly\n",
            "because\n",
            "his\n",
            "first\n",
            "training\n",
            "was\n",
            "in\n",
            "how\n",
            "to\n",
            "learn\n",
            ".\n",
            "And\n",
            "the\n",
            "first\n",
            "lesson\n",
            "of\n",
            "all\n",
            "was\n",
            "the\n",
            "basic\n",
            "trust\n",
            "that\n",
            "he\n",
            "could\n",
            "learn\n",
            ".\n",
            "It\n",
            "'s\n",
            "shocking\n",
            "to\n",
            "find\n",
            "how\n",
            "many\n",
            "people\n",
            "do\n",
            "not\n",
            "believe\n",
            "they\n",
            "can\n",
            "learn\n",
            ",\n",
            "and\n",
            "how\n",
            "many\n",
            "more\n",
            "believe\n",
            "learning\n",
            "to\n",
            "be\n",
            "difficult\n",
            ".\n"
          ]
        }
      ]
    },
    {
      "cell_type": "code",
      "source": [
        "stop_words = set(stopwords.words('english'))"
      ],
      "metadata": {
        "id": "6iT6VCToHi5p"
      },
      "execution_count": 8,
      "outputs": []
    },
    {
      "cell_type": "code",
      "source": [
        "filtered_list = []\n",
        "for word in word_in_string:\n",
        "  if word.casefold() not in stop_words:\n",
        "    filtered_list.append(word)"
      ],
      "metadata": {
        "id": "h4tsWqlSHypY"
      },
      "execution_count": 9,
      "outputs": []
    },
    {
      "cell_type": "code",
      "source": [
        "print(filtered_list)"
      ],
      "metadata": {
        "colab": {
          "base_uri": "https://localhost:8080/"
        },
        "id": "POXfUCNpIKhg",
        "outputId": "0d0c66c4-4509-42c9-806a-1b31fab83e05"
      },
      "execution_count": 10,
      "outputs": [
        {
          "output_type": "stream",
          "name": "stdout",
          "text": [
            "[\"Muad'Dib\", 'learned', 'rapidly', 'first', 'training', 'learn', '.', 'first', 'lesson', 'basic', 'trust', 'could', 'learn', '.', \"'s\", 'shocking', 'find', 'many', 'people', 'believe', 'learn', ',', 'many', 'believe', 'learning', 'difficult', '.']\n"
          ]
        }
      ]
    },
    {
      "cell_type": "code",
      "source": [
        "from nltk.stem import PorterStemmer"
      ],
      "metadata": {
        "id": "gGPEc6GRIgQQ"
      },
      "execution_count": 11,
      "outputs": []
    },
    {
      "cell_type": "code",
      "source": [
        "stemmer = PorterStemmer()"
      ],
      "metadata": {
        "id": "Y-iuA21CIn6Q"
      },
      "execution_count": 12,
      "outputs": []
    },
    {
      "cell_type": "code",
      "source": [
        "stemmed_words = []\n",
        "for word in word_in_string:\n",
        "  stemmed_words.append(stemmer.stem(word))"
      ],
      "metadata": {
        "id": "SkMjGa6LIrxx"
      },
      "execution_count": 13,
      "outputs": []
    },
    {
      "cell_type": "code",
      "source": [
        "for i in range(len(stemmed_words)):\n",
        "  print(stemmed_words[i])"
      ],
      "metadata": {
        "colab": {
          "base_uri": "https://localhost:8080/"
        },
        "id": "oymJCl5yKxLC",
        "outputId": "3cdfca8a-8fe0-44be-8523-d89f202e4084"
      },
      "execution_count": 14,
      "outputs": [
        {
          "output_type": "stream",
          "name": "stdout",
          "text": [
            "muad'dib\n",
            "learn\n",
            "rapidli\n",
            "becaus\n",
            "hi\n",
            "first\n",
            "train\n",
            "wa\n",
            "in\n",
            "how\n",
            "to\n",
            "learn\n",
            ".\n",
            "and\n",
            "the\n",
            "first\n",
            "lesson\n",
            "of\n",
            "all\n",
            "wa\n",
            "the\n",
            "basic\n",
            "trust\n",
            "that\n",
            "he\n",
            "could\n",
            "learn\n",
            ".\n",
            "it\n",
            "'s\n",
            "shock\n",
            "to\n",
            "find\n",
            "how\n",
            "mani\n",
            "peopl\n",
            "do\n",
            "not\n",
            "believ\n",
            "they\n",
            "can\n",
            "learn\n",
            ",\n",
            "and\n",
            "how\n",
            "mani\n",
            "more\n",
            "believ\n",
            "learn\n",
            "to\n",
            "be\n",
            "difficult\n",
            ".\n"
          ]
        }
      ]
    },
    {
      "cell_type": "code",
      "source": [
        "nltk.download('averaged_perceptron_tagger')"
      ],
      "metadata": {
        "colab": {
          "base_uri": "https://localhost:8080/"
        },
        "id": "5bJ2NLohL1ob",
        "outputId": "215395a2-7ae0-4176-bcfa-c75f98ace953"
      },
      "execution_count": 15,
      "outputs": [
        {
          "output_type": "stream",
          "name": "stderr",
          "text": [
            "[nltk_data] Downloading package averaged_perceptron_tagger to\n",
            "[nltk_data]     /root/nltk_data...\n",
            "[nltk_data]   Unzipping taggers/averaged_perceptron_tagger.zip.\n"
          ]
        },
        {
          "output_type": "execute_result",
          "data": {
            "text/plain": [
              "True"
            ]
          },
          "metadata": {},
          "execution_count": 15
        }
      ]
    },
    {
      "cell_type": "code",
      "source": [
        "string_pos = nltk.pos_tag(word_in_string)\n",
        "print(string_pos)"
      ],
      "metadata": {
        "colab": {
          "base_uri": "https://localhost:8080/"
        },
        "id": "p0exkD7GLldJ",
        "outputId": "4f5bb00e-f560-4fbc-9be1-0f9391f3f458"
      },
      "execution_count": 16,
      "outputs": [
        {
          "output_type": "stream",
          "name": "stdout",
          "text": [
            "[(\"Muad'Dib\", 'NNP'), ('learned', 'VBD'), ('rapidly', 'RB'), ('because', 'IN'), ('his', 'PRP$'), ('first', 'JJ'), ('training', 'NN'), ('was', 'VBD'), ('in', 'IN'), ('how', 'WRB'), ('to', 'TO'), ('learn', 'VB'), ('.', '.'), ('And', 'CC'), ('the', 'DT'), ('first', 'JJ'), ('lesson', 'NN'), ('of', 'IN'), ('all', 'DT'), ('was', 'VBD'), ('the', 'DT'), ('basic', 'JJ'), ('trust', 'NN'), ('that', 'IN'), ('he', 'PRP'), ('could', 'MD'), ('learn', 'VB'), ('.', '.'), ('It', 'PRP'), (\"'s\", 'VBZ'), ('shocking', 'VBG'), ('to', 'TO'), ('find', 'VB'), ('how', 'WRB'), ('many', 'JJ'), ('people', 'NNS'), ('do', 'VBP'), ('not', 'RB'), ('believe', 'VB'), ('they', 'PRP'), ('can', 'MD'), ('learn', 'VB'), (',', ','), ('and', 'CC'), ('how', 'WRB'), ('many', 'JJ'), ('more', 'JJR'), ('believe', 'NNS'), ('learning', 'VBG'), ('to', 'TO'), ('be', 'VB'), ('difficult', 'JJ'), ('.', '.')]\n"
          ]
        }
      ]
    },
    {
      "cell_type": "code",
      "source": [
        "from nltk.stem import WordNetLemmatizer"
      ],
      "metadata": {
        "id": "Iit4mafWMOhm"
      },
      "execution_count": 17,
      "outputs": []
    },
    {
      "cell_type": "code",
      "source": [
        "nltk.download('wordnet')"
      ],
      "metadata": {
        "colab": {
          "base_uri": "https://localhost:8080/"
        },
        "id": "p9GrsGbhNfk_",
        "outputId": "96ff1b0e-a174-4c51-8440-6c004b0ceeaf"
      },
      "execution_count": 18,
      "outputs": [
        {
          "output_type": "stream",
          "name": "stderr",
          "text": [
            "[nltk_data] Downloading package wordnet to /root/nltk_data...\n"
          ]
        },
        {
          "output_type": "execute_result",
          "data": {
            "text/plain": [
              "True"
            ]
          },
          "metadata": {},
          "execution_count": 18
        }
      ]
    },
    {
      "cell_type": "code",
      "source": [
        "lemmatizer = WordNetLemmatizer()"
      ],
      "metadata": {
        "id": "F7A035QxMtBh"
      },
      "execution_count": 19,
      "outputs": []
    },
    {
      "cell_type": "code",
      "source": [
        "lemmatized_words = []\n",
        "for word in word_in_string:\n",
        "  lemmatized_words.append(lemmatizer.lemmatize(word))"
      ],
      "metadata": {
        "id": "vM_yIv09My6v"
      },
      "execution_count": 20,
      "outputs": []
    },
    {
      "cell_type": "code",
      "source": [
        "for i in range(len(lemmatized_words)):\n",
        "  print(lemmatized_words[i])"
      ],
      "metadata": {
        "colab": {
          "base_uri": "https://localhost:8080/"
        },
        "id": "HKrTQZHNNktS",
        "outputId": "4822bcc7-22e5-4bc2-ed54-96f1003e7fac"
      },
      "execution_count": 21,
      "outputs": [
        {
          "output_type": "stream",
          "name": "stdout",
          "text": [
            "Muad'Dib\n",
            "learned\n",
            "rapidly\n",
            "because\n",
            "his\n",
            "first\n",
            "training\n",
            "wa\n",
            "in\n",
            "how\n",
            "to\n",
            "learn\n",
            ".\n",
            "And\n",
            "the\n",
            "first\n",
            "lesson\n",
            "of\n",
            "all\n",
            "wa\n",
            "the\n",
            "basic\n",
            "trust\n",
            "that\n",
            "he\n",
            "could\n",
            "learn\n",
            ".\n",
            "It\n",
            "'s\n",
            "shocking\n",
            "to\n",
            "find\n",
            "how\n",
            "many\n",
            "people\n",
            "do\n",
            "not\n",
            "believe\n",
            "they\n",
            "can\n",
            "learn\n",
            ",\n",
            "and\n",
            "how\n",
            "many\n",
            "more\n",
            "believe\n",
            "learning\n",
            "to\n",
            "be\n",
            "difficult\n",
            ".\n"
          ]
        }
      ]
    },
    {
      "cell_type": "code",
      "source": [
        "grammar = \"NP: {<DT>?<JJ>*<NN>}\""
      ],
      "metadata": {
        "id": "ladH8KibOF2K"
      },
      "execution_count": 22,
      "outputs": []
    },
    {
      "cell_type": "code",
      "source": [
        "chunk_parser = nltk.RegexpParser(grammar)"
      ],
      "metadata": {
        "id": "az_4MsHY48Pf"
      },
      "execution_count": 23,
      "outputs": []
    },
    {
      "cell_type": "code",
      "source": [
        "tree = chunk_parser.parse(string_pos)"
      ],
      "metadata": {
        "id": "_jyWd_9X5BJT"
      },
      "execution_count": 24,
      "outputs": []
    },
    {
      "cell_type": "code",
      "source": [
        "tree.pretty_print()"
      ],
      "metadata": {
        "colab": {
          "base_uri": "https://localhost:8080/"
        },
        "id": "yhbiLPjE5Wso",
        "outputId": "95a44af6-0bc2-474b-fda5-362a33aa3c21"
      },
      "execution_count": 25,
      "outputs": [
        {
          "output_type": "stream",
          "name": "stdout",
          "text": [
            "                                                                                                                                                                                                                      S                                                                                                                                                                                                                                      \n",
            "      ________________________________________________________________________________________________________________________________________________________________________________________________________________|________________________________________________________________________________________________________________________________________________________________________________________________________________________               \n",
            "     |            |          |          |         |        |      |      |      |      |      |    |      |     |       |       |      |       |        |      |    |      |         |         |      |       |       |        |        |      |        |         |       |       |      |    |       |       |       |          |           |         |     |        |        |            NP                       NP                        NP            \n",
            "     |            |          |          |         |        |      |      |      |      |      |    |      |     |       |       |      |       |        |      |    |      |         |         |      |       |       |        |        |      |        |         |       |       |      |    |       |       |       |          |           |         |     |        |        |      ______|_______          _______|_________         _______|________      \n",
            "Muad'Dib/NNP learned/VBD rapidly/RB because/IN his/PRP$ was/VBD in/IN how/WRB to/TO learn/VB ./. And/CC of/IN all/DT was/VBD that/IN he/PRP could/MD learn/VB ./. It/PRP 's/VBZ shocking/VBG to/TO find/VB how/WRB many/JJ people/NNS do/VBP not/RB believe/VB they/PRP can/MD learn/VB ,/, and/CC how/WRB many/JJ more/JJR believe/NNS learning/VBG to/TO be/VB difficult/JJ ./. first/JJ     training/NN the/DT first/JJ lesson/NN the/DT basic/JJ trust/NN\n",
            "\n"
          ]
        }
      ]
    },
    {
      "cell_type": "code",
      "source": [
        "quote = \"\"\"\n",
        " Men like Schiaparelli watched the red planet—it is odd, by-the-bye, that\n",
        " for countless centuries Mars has been the star of war—but failed to\n",
        " interpret the fluctuating appearances of the markings they mapped so well.\n",
        " All that time the Martians must have been getting ready.\n",
        "\n",
        " During the opposition of 1894 a great light was seen on the illuminated\n",
        " part of the disk, first at the Lick Observatory, then by Perrotin of Nice,\n",
        " and then by other observers. English readers heard of it first in the\n",
        " issue of Nature dated August 2.\"\"\""
      ],
      "metadata": {
        "id": "VFhjIiVu_bpP"
      },
      "execution_count": 26,
      "outputs": []
    },
    {
      "cell_type": "code",
      "source": [
        "nltk.download(\"maxent_ne_chunker\")\n",
        "nltk.download(\"words\")"
      ],
      "metadata": {
        "colab": {
          "base_uri": "https://localhost:8080/"
        },
        "id": "5zyQRBeR_pR2",
        "outputId": "87d35cfb-2321-47ea-b955-bc7507d70096"
      },
      "execution_count": 27,
      "outputs": [
        {
          "output_type": "stream",
          "name": "stderr",
          "text": [
            "[nltk_data] Downloading package maxent_ne_chunker to\n",
            "[nltk_data]     /root/nltk_data...\n",
            "[nltk_data]   Unzipping chunkers/maxent_ne_chunker.zip.\n",
            "[nltk_data] Downloading package words to /root/nltk_data...\n",
            "[nltk_data]   Unzipping corpora/words.zip.\n"
          ]
        },
        {
          "output_type": "execute_result",
          "data": {
            "text/plain": [
              "True"
            ]
          },
          "metadata": {},
          "execution_count": 27
        }
      ]
    },
    {
      "cell_type": "code",
      "source": [
        "quote_tokenize = word_tokenize(quote)"
      ],
      "metadata": {
        "id": "87W94w73AAl9"
      },
      "execution_count": 28,
      "outputs": []
    },
    {
      "cell_type": "code",
      "source": [
        "quote_pos = nltk.pos_tag(quote_tokenize)"
      ],
      "metadata": {
        "id": "acCwV5fg_2GV"
      },
      "execution_count": 29,
      "outputs": []
    },
    {
      "cell_type": "code",
      "source": [
        "print(quote_pos)"
      ],
      "metadata": {
        "colab": {
          "base_uri": "https://localhost:8080/"
        },
        "id": "0aJwVeKhAJ3H",
        "outputId": "755e6ceb-393f-430a-f5f8-fca48dd7d375"
      },
      "execution_count": 30,
      "outputs": [
        {
          "output_type": "stream",
          "name": "stdout",
          "text": [
            "[('Men', 'NNS'), ('like', 'IN'), ('Schiaparelli', 'NNP'), ('watched', 'VBD'), ('the', 'DT'), ('red', 'JJ'), ('planet—it', 'NN'), ('is', 'VBZ'), ('odd', 'JJ'), (',', ','), ('by-the-bye', 'JJ'), (',', ','), ('that', 'IN'), ('for', 'IN'), ('countless', 'JJ'), ('centuries', 'NNS'), ('Mars', 'NNP'), ('has', 'VBZ'), ('been', 'VBN'), ('the', 'DT'), ('star', 'NN'), ('of', 'IN'), ('war—but', 'NN'), ('failed', 'VBD'), ('to', 'TO'), ('interpret', 'VB'), ('the', 'DT'), ('fluctuating', 'NN'), ('appearances', 'NNS'), ('of', 'IN'), ('the', 'DT'), ('markings', 'NNS'), ('they', 'PRP'), ('mapped', 'VBD'), ('so', 'RB'), ('well', 'RB'), ('.', '.'), ('All', 'PDT'), ('that', 'DT'), ('time', 'NN'), ('the', 'DT'), ('Martians', 'NNPS'), ('must', 'MD'), ('have', 'VB'), ('been', 'VBN'), ('getting', 'VBG'), ('ready', 'JJ'), ('.', '.'), ('During', 'IN'), ('the', 'DT'), ('opposition', 'NN'), ('of', 'IN'), ('1894', 'CD'), ('a', 'DT'), ('great', 'JJ'), ('light', 'NN'), ('was', 'VBD'), ('seen', 'VBN'), ('on', 'IN'), ('the', 'DT'), ('illuminated', 'JJ'), ('part', 'NN'), ('of', 'IN'), ('the', 'DT'), ('disk', 'NN'), (',', ','), ('first', 'RB'), ('at', 'IN'), ('the', 'DT'), ('Lick', 'NNP'), ('Observatory', 'NNP'), (',', ','), ('then', 'RB'), ('by', 'IN'), ('Perrotin', 'NNP'), ('of', 'IN'), ('Nice', 'NNP'), (',', ','), ('and', 'CC'), ('then', 'RB'), ('by', 'IN'), ('other', 'JJ'), ('observers', 'NNS'), ('.', '.'), ('English', 'JJ'), ('readers', 'NNS'), ('heard', 'NN'), ('of', 'IN'), ('it', 'PRP'), ('first', 'RB'), ('in', 'IN'), ('the', 'DT'), ('issue', 'NN'), ('of', 'IN'), ('Nature', 'NNP'), ('dated', 'VBD'), ('August', 'NNP'), ('2', 'CD'), ('.', '.')]\n"
          ]
        }
      ]
    },
    {
      "cell_type": "code",
      "source": [
        "from nltk.chunk import ne_chunk"
      ],
      "metadata": {
        "id": "l8ApUpl5Am-0"
      },
      "execution_count": 31,
      "outputs": []
    },
    {
      "cell_type": "code",
      "source": [
        "tree = ne_chunk(quote_pos)"
      ],
      "metadata": {
        "id": "WRwadquNANy5"
      },
      "execution_count": 32,
      "outputs": []
    },
    {
      "cell_type": "code",
      "source": [
        "tree.pretty_print()"
      ],
      "metadata": {
        "colab": {
          "base_uri": "https://localhost:8080/"
        },
        "id": "uIZXtTx3ApiX",
        "outputId": "ce4a6f99-a981-4a20-9315-073aa6f605e8"
      },
      "execution_count": 33,
      "outputs": [
        {
          "output_type": "stream",
          "name": "stdout",
          "text": [
            "                                                                                                                                                                                                                                                                                                                                                                                                                                                          S                                                                                                                                                                                                                                                                                                                                                                                                                                  \n",
            "    ______________________________________________________________________________________________________________________________________________________________________________________________________________________________________________________________________________________________________________________________________________________________________________________________________________________________________________________|____________________________________________________________________________________________________________________________________________________________________________________________________________________________________________________________________________________________________________________________________________________________________________________________________________________________       \n",
            "   |       |         |        |      |         |         |      |     |        |        |     |      |         |             |          |       |       |       |      |       |          |        |        |         |          |               |          |     |         |          |         |        |      |     |     |       |       |      |          |          |       |       |          |         |      |      |       |          |         |      |     |      |        |        |       |       |     |          |           |      |     |       |     |     |       |     |     |     |      |     |    |    |       |      |      |           |        |      |           |         |       |     |       |       |     |       |       |       |         |       |    |       PERSON       PERSON           ORGANIZATION                    PERSON      GPE      PERSON  \n",
            "   |       |         |        |      |         |         |      |     |        |        |     |      |         |             |          |       |       |       |      |       |          |        |        |         |          |               |          |     |         |          |         |        |      |     |     |       |       |      |          |          |       |       |          |         |      |      |       |          |         |      |     |      |        |        |       |       |     |          |           |      |     |       |     |     |       |     |     |     |      |     |    |    |       |      |      |           |        |      |           |         |       |     |       |       |     |       |       |       |         |       |    |         |            |         __________|______________              |          |         |      \n",
            "Men/NNS like/IN watched/VBD the/DT red/JJ planet—it/NN is/VBZ odd/JJ ,/, by-the-bye/JJ ,/, that/IN for/IN countless/JJ centuries/NNS has/VBZ been/VBN the/DT star/NN of/IN war—but/NN failed/VBD to/TO interpret/VB the/DT fluctuating/NN appearances/NNS of/IN the/DT markings/NNS they/PRP mapped/VBD so/RB well/RB ./. All/PDT that/DT time/NN the/DT Martians/NNPS must/MD have/VB been/VBN getting/VBG ready/JJ ./. During/IN the/DT opposition/NN of/IN 1894/CD a/DT great/JJ light/NN was/VBD seen/VBN on/IN the/DT illuminated/JJ part/NN of/IN the/DT disk/NN ,/, first/RB at/IN the/DT ,/, then/RB by/IN of/IN ,/, and/CC then/RB by/IN other/JJ observers/NNS ./. English/JJ readers/NNS heard/NN of/IN it/PRP first/RB in/IN the/DT issue/NN of/IN dated/VBD August/NNP 2/CD ./. Schiaparelli/NNP Mars/NNP Lick/NNP              Observatory/NNP Perrotin/NNP Nice/NNP Nature/NNP\n",
            "\n"
          ]
        }
      ]
    },
    {
      "cell_type": "code",
      "source": [
        "quote_meaningful_words = [word for word in quote_tokenize if word.casefold() not in stop_words]"
      ],
      "metadata": {
        "id": "Dj6aIDhmCBD2"
      },
      "execution_count": 34,
      "outputs": []
    },
    {
      "cell_type": "code",
      "source": [
        "quote_meaningful_words"
      ],
      "metadata": {
        "colab": {
          "base_uri": "https://localhost:8080/"
        },
        "id": "RASqee4eDB_N",
        "outputId": "31dd6acb-2036-4bc6-bdb7-03843f90e221"
      },
      "execution_count": 35,
      "outputs": [
        {
          "output_type": "execute_result",
          "data": {
            "text/plain": [
              "['Men',\n",
              " 'like',\n",
              " 'Schiaparelli',\n",
              " 'watched',\n",
              " 'red',\n",
              " 'planet—it',\n",
              " 'odd',\n",
              " ',',\n",
              " 'by-the-bye',\n",
              " ',',\n",
              " 'countless',\n",
              " 'centuries',\n",
              " 'Mars',\n",
              " 'star',\n",
              " 'war—but',\n",
              " 'failed',\n",
              " 'interpret',\n",
              " 'fluctuating',\n",
              " 'appearances',\n",
              " 'markings',\n",
              " 'mapped',\n",
              " 'well',\n",
              " '.',\n",
              " 'time',\n",
              " 'Martians',\n",
              " 'must',\n",
              " 'getting',\n",
              " 'ready',\n",
              " '.',\n",
              " 'opposition',\n",
              " '1894',\n",
              " 'great',\n",
              " 'light',\n",
              " 'seen',\n",
              " 'illuminated',\n",
              " 'part',\n",
              " 'disk',\n",
              " ',',\n",
              " 'first',\n",
              " 'Lick',\n",
              " 'Observatory',\n",
              " ',',\n",
              " 'Perrotin',\n",
              " 'Nice',\n",
              " ',',\n",
              " 'observers',\n",
              " '.',\n",
              " 'English',\n",
              " 'readers',\n",
              " 'heard',\n",
              " 'first',\n",
              " 'issue',\n",
              " 'Nature',\n",
              " 'dated',\n",
              " 'August',\n",
              " '2',\n",
              " '.']"
            ]
          },
          "metadata": {},
          "execution_count": 35
        }
      ]
    },
    {
      "cell_type": "code",
      "source": [
        "from nltk import FreqDist"
      ],
      "metadata": {
        "id": "uFXeGPD_CW1w"
      },
      "execution_count": 36,
      "outputs": []
    },
    {
      "cell_type": "code",
      "source": [
        "freq_dist = FreqDist(quote_meaningful_words)"
      ],
      "metadata": {
        "id": "cOdPPivmChM8"
      },
      "execution_count": 37,
      "outputs": []
    },
    {
      "cell_type": "code",
      "source": [
        "print(freq_dist)"
      ],
      "metadata": {
        "colab": {
          "base_uri": "https://localhost:8080/"
        },
        "id": "PrI9urvxCxWU",
        "outputId": "51f509b5-d176-49d9-ae3e-50cdc8ff8bb4"
      },
      "execution_count": 38,
      "outputs": [
        {
          "output_type": "stream",
          "name": "stdout",
          "text": [
            "<FreqDist with 49 samples and 57 outcomes>\n"
          ]
        }
      ]
    },
    {
      "cell_type": "code",
      "source": [
        "freq_dist.most_common(10)"
      ],
      "metadata": {
        "colab": {
          "base_uri": "https://localhost:8080/"
        },
        "id": "ztFlSEnwC1os",
        "outputId": "75a9d56a-3473-408f-8429-fcbe45566889"
      },
      "execution_count": 39,
      "outputs": [
        {
          "output_type": "execute_result",
          "data": {
            "text/plain": [
              "[(',', 5),\n",
              " ('.', 4),\n",
              " ('first', 2),\n",
              " ('Men', 1),\n",
              " ('like', 1),\n",
              " ('Schiaparelli', 1),\n",
              " ('watched', 1),\n",
              " ('red', 1),\n",
              " ('planet—it', 1),\n",
              " ('odd', 1)]"
            ]
          },
          "metadata": {},
          "execution_count": 39
        }
      ]
    },
    {
      "cell_type": "code",
      "source": [
        "freq_dist.plot(10, cumulative=True)"
      ],
      "metadata": {
        "colab": {
          "base_uri": "https://localhost:8080/",
          "height": 533
        },
        "id": "nQIUrwOfDpOW",
        "outputId": "76080b6f-dfb2-453f-b47f-8fdc240403f3"
      },
      "execution_count": 40,
      "outputs": [
        {
          "output_type": "display_data",
          "data": {
            "text/plain": [
              "<Figure size 640x480 with 1 Axes>"
            ],
            "image/png": "[encoded data removed]"
          },
          "metadata": {}
        },
        {
          "output_type": "execute_result",
          "data": {
            "text/plain": [
              "<Axes: xlabel='Samples', ylabel='Cumulative Counts'>"
            ]
          },
          "metadata": {},
          "execution_count": 40
        }
      ]
    },
    {
      "cell_type": "code",
      "source": [
        "new_text = nltk.Text(lemmatized_words)"
      ],
      "metadata": {
        "id": "2u8_KOgzENUN"
      },
      "execution_count": 41,
      "outputs": []
    },
    {
      "cell_type": "code",
      "source": [
        "new_text.collocations()"
      ],
      "metadata": {
        "colab": {
          "base_uri": "https://localhost:8080/"
        },
        "id": "W6GDid_aEu5d",
        "outputId": "c1208d53-3e03-40fd-950f-f879a5a7f8bf"
      },
      "execution_count": 42,
      "outputs": [
        {
          "output_type": "stream",
          "name": "stdout",
          "text": [
            "\n"
          ]
        }
      ]
    },
    {
      "cell_type": "code",
      "source": [],
      "metadata": {
        "id": "Cg7JdlxvE2yV"
      },
      "execution_count": 42,
      "outputs": []
    }
  ]
}