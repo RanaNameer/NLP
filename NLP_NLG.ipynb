{
  "cells": [
    {
      "cell_type": "code",
      "execution_count": 12,
      "metadata": {
        "colab": {
          "base_uri": "https://localhost:8080/"
        },
        "id": "TF56OnoSKM6y",
        "outputId": "6ba8bf8c-4714-4847-b10e-f6c45ee64250"
      },
      "outputs": [
        {
          "name": "stderr",
          "output_type": "stream",
          "text": [
            "[nltk_data] Downloading package punkt to /root/nltk_data...\n",
            "[nltk_data]   Unzipping tokenizers/punkt.zip.\n"
          ]
        },
        {
          "name": "stdout",
          "output_type": "stream",
          "text": [
            "Tokenized Words: ['Muad', 'Dib', 'learned', 'rapidly', 'how', 'to', 'drive', '.', 'The', 'first', 'lesson', 'of', 'all', 'was', 'the', 'basic', 'trust', 'he', 'learned', '.']\n",
            "Tokenized Sentences: ['Muad Dib learned rapidly how to drive.', 'The first lesson of all was the basic trust he learned.']\n"
          ]
        }
      ],
      "source": [
        "import nltk\n",
        "nltk.download('punkt')\n",
        "from nltk.tokenize import word_tokenize, sent_tokenize\n",
        "\n",
        "# Example string\n",
        "example_string = \"Muad Dib learned rapidly how to drive. The first lesson of all was the basic trust he learned.\"\n",
        "\n",
        "# Tokenize\n",
        "word_tokens = word_tokenize(example_string)\n",
        "sentence_tokens = sent_tokenize(example_string)\n",
        "\n",
        "# Print tokenized words and sentences\n",
        "print(\"Tokenized Words:\", word_tokens)\n",
        "print(\"Tokenized Sentences:\", sentence_tokens)\n"
      ]
    },
    {
      "cell_type": "code",
      "execution_count": 13,
      "metadata": {
        "colab": {
          "base_uri": "https://localhost:8080/"
        },
        "id": "PGumjx7mMsSQ",
        "outputId": "bff1f71b-4c28-4cb0-a714-f281057d59ad"
      },
      "outputs": [
        {
          "name": "stdout",
          "output_type": "stream",
          "text": [
            "Original String: Muad Dib learned rapidly how to drive. The first lesson of all was the basic trust he learned.\n",
            "Filtered String (without stop words): Muad Dib learned rapidly drive . first lesson basic trust learned .\n"
          ]
        },
        {
          "name": "stderr",
          "output_type": "stream",
          "text": [
            "[nltk_data] Downloading package stopwords to /root/nltk_data...\n",
            "[nltk_data]   Unzipping corpora/stopwords.zip.\n"
          ]
        }
      ],
      "source": [
        "from nltk.corpus import stopwords\n",
        "nltk.download('stopwords')\n",
        "stop_words = set(stopwords.words(\"english\"))\n",
        "filtered_tokens = [word for word in word_tokens if word.lower() not in stop_words]\n",
        "\n",
        "# Convert filtered tokens back to a string\n",
        "filtered_string = \" \".join(filtered_tokens)\n",
        "\n",
        "# Print the filtered string\n",
        "print(\"Original String:\", example_string)\n",
        "print(\"Filtered String (without stop words):\", filtered_string)"
      ]
    },
    {
      "cell_type": "code",
      "execution_count": 15,
      "metadata": {
        "colab": {
          "base_uri": "https://localhost:8080/"
        },
        "id": "3EV-zwQqN1Ib",
        "outputId": "1700c9a2-decd-48c1-f3de-45ffaacdfca7"
      },
      "outputs": [
        {
          "name": "stdout",
          "output_type": "stream",
          "text": [
            "Original String: The crew of the USS discovered many discoveries. Discovering is what explorers do.\n",
            "Stemmed String: the crew of the uss discov mani discoveri . discov is what explor do .\n"
          ]
        }
      ],
      "source": [
        "from nltk.stem import PorterStemmer\n",
        "stemmer = PorterStemmer()\n",
        "example_string = \"The crew of the USS discovered many discoveries. Discovering is what explorers do.\"\n",
        "word_tokens1 = word_tokenize(example_string)\n",
        "stemmed_words = [stemmer.stem(word) for word in word_tokens1]\n",
        "stemmed_string = \" \".join(stemmed_words)\n",
        "\n",
        "# Print the stemmed string\n",
        "print(\"Original String:\", example_string)\n",
        "print(\"Stemmed String:\", stemmed_string)"
      ]
    },
    {
      "cell_type": "code",
      "execution_count": 16,
      "metadata": {
        "colab": {
          "base_uri": "https://localhost:8080/"
        },
        "id": "VrQq3f-GO16N",
        "outputId": "cec11201-128b-48f6-82ba-28368e8f1538"
      },
      "outputs": [
        {
          "name": "stderr",
          "output_type": "stream",
          "text": [
            "[nltk_data] Downloading package averaged_perceptron_tagger to\n",
            "[nltk_data]     /root/nltk_data...\n",
            "[nltk_data]   Unzipping taggers/averaged_perceptron_tagger.zip.\n"
          ]
        },
        {
          "name": "stdout",
          "output_type": "stream",
          "text": [
            "Original String: If you wish to create an apple pie from scratch, you must first invent the universe.\n",
            "POS Tagged Words: [('If', 'IN'), ('you', 'PRP'), ('wish', 'VBP'), ('to', 'TO'), ('create', 'VB'), ('an', 'DT'), ('apple', 'NN'), ('pie', 'NN'), ('from', 'IN'), ('scratch', 'NN'), (',', ','), ('you', 'PRP'), ('must', 'MD'), ('first', 'VB'), ('invent', 'VB'), ('the', 'DT'), ('universe', 'NN'), ('.', '.')]\n"
          ]
        }
      ],
      "source": [
        "from nltk import pos_tag\n",
        "nltk.download('averaged_perceptron_tagger')\n",
        "example_string = \"If you wish to create an apple pie from scratch, you must first invent the universe.\"\n",
        "\n",
        "# Tokenize the example string\n",
        "word_tokens = word_tokenize(example_string)\n",
        "\n",
        "# Perform POS tagging\n",
        "pos_tags = pos_tag(word_tokens)\n",
        "\n",
        "# Print the POS tagged words\n",
        "print(\"Original String:\", example_string)\n",
        "print(\"POS Tagged Words:\", pos_tags)"
      ]
    },
    {
      "cell_type": "code",
      "execution_count": 17,
      "metadata": {
        "colab": {
          "base_uri": "https://localhost:8080/"
        },
        "id": "4K8VxsNxPMGZ",
        "outputId": "8a9efa0d-0f49-4cf5-c53d-4fe100c4d0bf"
      },
      "outputs": [
        {
          "name": "stderr",
          "output_type": "stream",
          "text": [
            "[nltk_data] Downloading package wordnet to /root/nltk_data...\n"
          ]
        },
        {
          "name": "stdout",
          "output_type": "stream",
          "text": [
            "Original String: The friends of DeSoto love scarves.\n",
            "Lemmatized String: The friend of DeSoto love scarf .\n"
          ]
        }
      ],
      "source": [
        "from nltk.stem import WordNetLemmatizer\n",
        "nltk.download('wordnet')\n",
        "lemmatizer = WordNetLemmatizer()\n",
        "example_string = \"The friends of DeSoto love scarves.\"\n",
        "word_tokens = word_tokenize(example_string)\n",
        "lemmatized_words = [lemmatizer.lemmatize(word) for word in word_tokens]\n",
        "lemmatized_string = \" \".join(lemmatized_words)\n",
        "\n",
        "print(\"Original String:\", example_string)\n",
        "print(\"Lemmatized String:\", lemmatized_string)"
      ]
    },
    {
      "cell_type": "code",
      "execution_count": 18,
      "metadata": {
        "colab": {
          "base_uri": "https://localhost:8080/"
        },
        "id": "LPyeD4BwP9Ua",
        "outputId": "cc28304b-deb3-4766-d5ef-6607ec1bb379"
      },
      "outputs": [
        {
          "name": "stdout",
          "output_type": "stream",
          "text": [
            "                                            S                                                       \n",
            "   _________________________________________|___________________________________________________     \n",
            "  |      |     |      |      |      |       |        |      |            NP                     NP  \n",
            "  |      |     |      |      |      |       |        |      |    ________|____________          |    \n",
            "It/PRP 's/VBZ ,/, Frodo/NNP ,/, going/VBG out/RP your/PRP$ ./. a/DT dangerous/JJ business/NN door/NN\n",
            "\n"
          ]
        }
      ],
      "source": [
        "from nltk.chunk import RegexpParser\n",
        "example_string = \"It's a dangerous business, Frodo, going out your door.\"\n",
        "word_tokens = word_tokenize(example_string)\n",
        "pos_tags = pos_tag(word_tokens)\n",
        "\n",
        "# Define a chunk grammar\n",
        "chunk_grammar = r\"\"\"\n",
        "    NP: {<DT>?<JJ>*<NN>}   # Noun phrase\n",
        "    VP: {<VB.*><NP|PP|CLAUSE>+$}  # Verb phrase\n",
        "    PP: {<IN><NP>}       # Prepositional phrase\n",
        "    CLAUSE: {<NP><VP>}   # Clause\n",
        "\"\"\"\n",
        "\n",
        "# Create a chunk parser with the defined grammar\n",
        "chunk_parser = RegexpParser(chunk_grammar)\n",
        "\n",
        "# Parse the tagged output through the parser\n",
        "chunked_output = chunk_parser.parse(pos_tags)\n",
        "\n",
        "# Print the chunked tree\n",
        "chunked_output.pretty_print()"
      ]
    },
    {
      "cell_type": "markdown",
      "metadata": {
        "id": "S2z37d8p4QBj"
      },
      "source": [
        "In this lab, you will build pipeline for a language generation model.\n",
        "\n",
        "You will read text data from file, process it (make Vocabulary and tokanize).\n",
        "Then you will build your RNN model using various varients of RNN cells.\n",
        "Train and Evaluate the model and finally generate random text."
      ]
    },
    {
      "cell_type": "code",
      "execution_count": null,
      "metadata": {
        "colab": {
          "base_uri": "https://localhost:8080/"
        },
        "id": "lKtzZrLb5bu7",
        "outputId": "925c6e40-e2ab-48b3-a665-089b8603b1a7"
      },
      "outputs": [
        {
          "name": "stdout",
          "output_type": "stream",
          "text": [
            "Mounted at /content/gdrive/\n"
          ]
        }
      ],
      "source": [
        "import os\n",
        "import time\n",
        "import math\n",
        "import torch\n",
        "import torch.nn as nn\n",
        "\n",
        "from google.colab import drive\n",
        "drive.mount('/content/gdrive/',force_remount=True)"
      ]
    },
    {
      "cell_type": "code",
      "execution_count": null,
      "metadata": {
        "id": "PnqDAgKt9zU8"
      },
      "outputs": [],
      "source": [
        "from io import open\n",
        "\n",
        "class Dictionary(object):\n",
        "    def __init__(self):\n",
        "        self.word2idx = {}\n",
        "        self.idx2word = []\n",
        "\n",
        "    def add_word(self, word):\n",
        "        if word not in self.word2idx:\n",
        "            self.idx2word.append(word)\n",
        "            self.word2idx[word] = len(self.idx2word) - 1\n",
        "        return self.word2idx[word]\n",
        "\n",
        "    def __len__(self):\n",
        "        return len(self.idx2word)\n",
        "\n",
        "\n",
        "class Corpus(object):\n",
        "    def __init__(self, path):\n",
        "        self.dictionary = Dictionary()\n",
        "        self.train = self.tokenize(os.path.join(path, 'train.txt'))\n",
        "        self.valid = self.tokenize(os.path.join(path, 'valid.txt'))\n",
        "        self.test = self.tokenize(os.path.join(path, 'test.txt'))\n",
        "\n",
        "    def tokenize(self, path):\n",
        "        \"\"\"Tokenizes a text file.\"\"\"\n",
        "        assert os.path.exists(path)\n",
        "        # Add words to the dictionary (make Vocabulary)\n",
        "        with open(path, 'r', encoding=\"utf8\") as f:\n",
        "            for line in f:\n",
        "                words = line.split() + ['<eos>']\n",
        "                for word in words:\n",
        "                    self.dictionary.add_word(word)\n",
        "\n",
        "\n",
        "        # Tokenize file content\n",
        "        with open(path, 'r', encoding=\"utf8\") as f:\n",
        "            idss = []\n",
        "            for line in f:\n",
        "                words = line.split() + ['<eos>']\n",
        "                ids = []\n",
        "                for word in words:\n",
        "                    ids.append(self.dictionary.word2idx[word])\n",
        "                idss.append(torch.tensor(ids).type(torch.int64))\n",
        "            ids = torch.cat(idss)   # Concatinate all idss\n",
        "            #print(ids)\n",
        "            #ip=input(\"Next\")\n",
        "        return ids\n",
        "#corpus = Corpus('/content/gdrive/My Drive/RNN-Lab/data/wikitext-2')"
      ]
    },
    {
      "cell_type": "code",
      "execution_count": null,
      "metadata": {
        "id": "e9Qwcg1T9_0z"
      },
      "outputs": [],
      "source": [
        "import torch.nn.functional as F\n",
        "\n",
        "class RNNModel(nn.Module):\n",
        "    \"\"\"Container module with an encoder, a recurrent module, and a decoder.\"\"\"\n",
        "\n",
        "    def __init__(self, rnn_type, ntoken, ninp, nhid, nlayers, dropout=0.5, tie_weights=False):\n",
        "        super(RNNModel, self).__init__()\n",
        "        self.ntoken = ntoken\n",
        "        self.drop = nn.Dropout(dropout)\n",
        "        self.encoder = nn.Embedding(ntoken, ninp)\n",
        "        if rnn_type in ['LSTM', 'GRU']:\n",
        "            self.rnn = getattr(nn, rnn_type)(ninp, nhid, nlayers, dropout=dropout)\n",
        "        else:\n",
        "            try:\n",
        "                nonlinearity = {'RNN_TANH': 'tanh', 'RNN_RELU': 'relu'}[rnn_type]\n",
        "            except KeyError:\n",
        "                raise ValueError( \"\"\"An invalid option for `--model` was supplied,\n",
        "                                 options are ['LSTM', 'GRU', 'RNN_TANH' or 'RNN_RELU']\"\"\")\n",
        "            self.rnn = nn.RNN(ninp, nhid, nlayers, nonlinearity=nonlinearity, dropout=dropout)\n",
        "\n",
        "        self.decoder = nn.Linear(nhid, ntoken)\n",
        "        self.init_weights()\n",
        "        self.rnn_type = rnn_type\n",
        "        self.nhid = nhid\n",
        "        self.nlayers = nlayers\n",
        "\n",
        "    def init_weights(self):\n",
        "        ### Write code for Initialising Weights ###\n",
        "          # You may initialise weights of encoder and decoder from uniform distribution\n",
        "          # You may initialise biases for decoder with zeros.\n",
        "\n",
        "        ### Start Code (about 3 lines)\n",
        "        initrange = 0.1\n",
        "        nn.init.uniform_(self.encoder.weight, -initrange, initrange)\n",
        "        nn.init.zeros_(self.decoder.bias)\n",
        "        nn.init.uniform_(self.decoder.weight, -initrange, initrange)\n",
        "\n",
        "\n",
        "        ### End Code\n",
        "\n",
        "    def init_hidden(self, bsz):\n",
        "        weight = next(self.parameters())\n",
        "        if self.rnn_type == 'LSTM':\n",
        "            return (weight.new_zeros(self.nlayers, bsz, self.nhid),\n",
        "                    weight.new_zeros(self.nlayers, bsz, self.nhid))\n",
        "        else:\n",
        "            return weight.new_zeros(self.nlayers, bsz, self.nhid)\n",
        "\n",
        "    def forward(self, input, hidden): # Accepts and hidden state a(i)\n",
        "        ### Implement forward pass ###\n",
        "\n",
        "        # From encoder, get an embedding x(i) and apply dropout on it.\n",
        "        # Pass the embedding and hidden to rnn model\n",
        "        # apply dropout on output (optional)\n",
        "        # pass this output to decoder and get decoded output\n",
        "\n",
        "\n",
        "        ### Start your code (4 Lines)\n",
        "        emb = self.drop(self.encoder(input))\n",
        "        output, hidden = self.rnn(emb, hidden)\n",
        "        output = self.drop(output)\n",
        "        decoded = self.decoder(output)\n",
        "\n",
        "\n",
        "        decoded = decoded.view(-1, self.ntoken)\n",
        "        ### End your code\n",
        "        return F.log_softmax(decoded, dim=1), hidden"
      ]
    },
    {
      "cell_type": "markdown",
      "metadata": {
        "id": "AeUajPoVyPMd"
      },
      "source": [
        "tensorA.view(a,b) rehsapes the tensorA to a rown and b columns. However, if we don't know exactly how many rows will be there when we reshape the data (but we do know how many columns we want), we can use -1 as the argument for number of rows. The same can be done with unknown number of columns (rows are known). We cannot use -1 on both locations."
      ]
    },
    {
      "cell_type": "markdown",
      "metadata": {
        "id": "BmEaOKDptxKu"
      },
      "source": [
        "Try initialising encoder biases. What happens?\n",
        "\n",
        "What is the reason for this?\n",
        "\n",
        "Answer: encoder is an object to type nn.Embedding (look in the code above). Embedding simply makes a look up table that stores embeddings of a fixed dictionary and size. This module is often used to store word embeddings and retrieve them using indices. The input to the module is a list of indices, and the output is the corresponding word embeddings.\n",
        "Decoder is an object of nn.Linear, which implements a hidden layer."
      ]
    },
    {
      "cell_type": "code",
      "execution_count": null,
      "metadata": {
        "id": "fo2oQtoZzhdl"
      },
      "outputs": [],
      "source": [
        "# Configure your Model\n",
        "\n",
        "from torch.nn.modules.module import T\n",
        "\n",
        "data = '/content/gdrive/My Drive/RNN/wikitext-2'\n",
        "print(data)\n",
        "\n",
        "model = 'RNN_TANH' # @ RNN_TANH, RNN_RELU, LSTM, GRU, Transformer\n",
        "\n",
        "emsize = 256        # Size of Embeddings (the word vectors)\n",
        "nhid = 128          # Number of hidden units per layer\n",
        "nlayers = 1         # Number of hidden layers\n",
        "lr = 20             # Initial Learning Rate\n",
        "clip = 0.25         # Gradient Clipping, used for addressing exploding gradients.\n",
        "epochs = 4        # Maximum number of epochs\n",
        "batch_size = 20     #\n",
        "#metavar = 'N'\n",
        "bptt = 35           # Sequence Length\n",
        "dropout = 0.2       # Dropout probability\n",
        "#tied = False        # Tie the word embeddings and softmax weights\n",
        "seed = 42           # random seed\n",
        "cuda = False        # If CUDA is availble, use it.\n",
        "#mps = True          # enables macOS GPU training\n",
        "log_interval = 200  # How often log should be reported\n",
        "save = '/content/gdrive/My Drive/RNN/model.pt'     # path to save the model\n",
        "#onnx_export = ''    # path to export the final model in onnx format\n",
        "#nhead = 2           # 'the number of heads in the encoder/decoder of the transformer model'\n",
        "dry_run = True      # verify the code and the model\n",
        "\n",
        "# Set the random seed manually for reproducibility.\n",
        "torch.manual_seed(seed)\n",
        "\n",
        "if torch.cuda.is_available():\n",
        "    if not cuda:\n",
        "        print(\"WARNING: You have a CUDA device, so you should probably run with --cuda.\")\n",
        "if cuda:\n",
        "    device = torch.device(\"cuda\")\n",
        "else:\n",
        "    device = torch.device(\"cpu\")\n",
        "\n",
        "# Load Data\n",
        "corpus = Corpus(data)"
      ]
    },
    {
      "cell_type": "markdown",
      "metadata": {
        "id": "htaI122WzvBj"
      },
      "source": []
    },
    {
      "cell_type": "code",
      "execution_count": null,
      "metadata": {
        "colab": {
          "base_uri": "https://localhost:8080/"
        },
        "id": "8-ZLjBAN-cUl",
        "outputId": "48c89781-bd5d-4c25-a643-f3fd296a3888"
      },
      "outputs": [
        {
          "name": "stderr",
          "output_type": "stream",
          "text": [
            "/usr/local/lib/python3.7/dist-packages/torch/nn/modules/rnn.py:65: UserWarning: dropout option adds dropout after all but last recurrent layer, so non-zero dropout expects num_layers greater than 1, but got dropout=0.2 and num_layers=1\n",
            "  \"num_layers={}\".format(dropout, num_layers))\n"
          ]
        },
        {
          "name": "stdout",
          "output_type": "stream",
          "text": [
            "-----------------------------------------------------------------------------------------\n",
            "| end of epoch   1 | time: 59.14s | valid loss 10.22 | valid ppl 27390.90\n",
            "-----------------------------------------------------------------------------------------\n",
            "-----------------------------------------------------------------------------------------\n",
            "| end of epoch   2 | time: 59.08s | valid loss 10.68 | valid ppl 43669.79\n",
            "-----------------------------------------------------------------------------------------\n",
            "-----------------------------------------------------------------------------------------\n",
            "| end of epoch   3 | time: 58.84s | valid loss  8.90 | valid ppl  7306.64\n",
            "-----------------------------------------------------------------------------------------\n",
            "-----------------------------------------------------------------------------------------\n",
            "| end of epoch   4 | time: 59.14s | valid loss  8.67 | valid ppl  5833.52\n",
            "-----------------------------------------------------------------------------------------\n",
            "-----------------------------------------------------------------------------------------\n",
            "| end of epoch   5 | time: 59.06s | valid loss  8.58 | valid ppl  5317.96\n",
            "-----------------------------------------------------------------------------------------\n",
            "-----------------------------------------------------------------------------------------\n",
            "| end of epoch   6 | time: 58.93s | valid loss  8.91 | valid ppl  7435.83\n",
            "-----------------------------------------------------------------------------------------\n",
            "-----------------------------------------------------------------------------------------\n",
            "| end of epoch   7 | time: 58.84s | valid loss  8.27 | valid ppl  3923.39\n",
            "-----------------------------------------------------------------------------------------\n",
            "-----------------------------------------------------------------------------------------\n",
            "| end of epoch   8 | time: 59.08s | valid loss  8.09 | valid ppl  3266.93\n",
            "-----------------------------------------------------------------------------------------\n",
            "=========================================================================================\n",
            "| End of training | test loss  8.05 | test ppl  3148.74\n",
            "=========================================================================================\n"
          ]
        }
      ],
      "source": [
        "# Starting from sequential data, batchify arranges the dataset into columns.\n",
        "# For instance, with the alphabet as the sequence and batch size 4, we'd get\n",
        "# ┌ a g m s ┐\n",
        "# │ b h n t │\n",
        "# │ c i o u │\n",
        "# │ d j p v │\n",
        "# │ e k q w │\n",
        "# └ f l r x ┘.\n",
        "# These columns are treated as independent by the model, which means that the\n",
        "# dependence of e. g. 'g' on 'f' can not be learned, but allows more efficient\n",
        "# batch processing.\n",
        "\n",
        "def batchify(data, bsz): # bsz is batch-size\n",
        "    # Work out how cleanly we can divide the dataset into bsz parts.\n",
        "    nbatch = data.size(0) // bsz\n",
        "    # Trim off any extra elements that wouldn't cleanly fit (remainders).\n",
        "    data = data.narrow(0, 0, nbatch * bsz)\n",
        "    # Evenly divide the data across the bsz batches.\n",
        "    data = data.view(bsz, -1).t().contiguous()\n",
        "    return data.to(device)\n",
        "\n",
        "eval_batch_size = 10\n",
        "train_data = batchify(corpus.train, batch_size)\n",
        "val_data = batchify(corpus.valid, eval_batch_size)\n",
        "test_data = batchify(corpus.test, eval_batch_size)\n",
        "\n",
        "###############################################################################\n",
        "# Build the model\n",
        "###############################################################################\n",
        "\n",
        "ntokens = len(corpus.dictionary)\n",
        "model = RNNModel(model, ntokens, emsize, nhid, nlayers, dropout).to(device)\n",
        "criterion = nn.NLLLoss()\n",
        "\n",
        "###############################################################################\n",
        "# Training code\n",
        "###############################################################################\n",
        "\n",
        "def repackage_hidden(h):\n",
        "    \"\"\"Wraps hidden states in new Tensors, to detach them from their history.\"\"\"\n",
        "\n",
        "    if isinstance(h, torch.Tensor):\n",
        "        return h.detach()\n",
        "    else:\n",
        "        return tuple(repackage_hidden(v) for v in h)\n",
        "\n",
        "# get_batch subdivides the source data into chunks of length bptt.\n",
        "# If source is equal to the example output of the batchify function, with\n",
        "# a bptt-limit of 2, we'd get the following two Variables for i = 0:\n",
        "# ┌ a g m s ┐ ┌ b h n t ┐\n",
        "# └ b h n t ┘ └ c i o u ┘\n",
        "\n",
        "# Note that despite the name of the function, the subdivison of data is not\n",
        "# done along the batch dimension (i.e. dimension 1), since that was handled\n",
        "# by the batchify function. The chunks are along dimension 0, corresponding\n",
        "# to the seq_len dimension in the LSTM.\n",
        "\n",
        "def get_batch(source, i):\n",
        "    seq_len = min(bptt, len(source) - 1 - i)\n",
        "    data = source[i:i+seq_len]\n",
        "    target = source[i+1:i+1+seq_len].view(-1)\n",
        "    return data, target\n",
        "\n",
        "def train():\n",
        "    # Turn on training mode which enables dropout.\n",
        "    model.train()\n",
        "    total_loss = 0.\n",
        "    start_time = time.time()\n",
        "    ntokens = len(corpus.dictionary)\n",
        "    hidden = model.init_hidden(batch_size)\n",
        "\n",
        "    for batch, i in enumerate(range(0, train_data.size(0) - 1, bptt)):\n",
        "        data, targets = get_batch(train_data, i)\n",
        "\n",
        "        # Starting each batch, we detach the hidden state from how it was previously produced.\n",
        "        # If we didn't, the model would try backpropagating all the way to start of the dataset.\n",
        "        model.zero_grad()\n",
        "        hidden = repackage_hidden(hidden)\n",
        "\n",
        "        ### Impement Training Pass\n",
        "          # pass the data and hidden state to the model\n",
        "          # calculate loss\n",
        "          # backpropogate loss\n",
        "\n",
        "        ### Start your code (3 lines)\n",
        "        output, hidden = model(data, hidden)\n",
        "        loss = criterion(output, targets)\n",
        "        loss.backward()\n",
        "\n",
        "\n",
        "        ### End your code\n",
        "\n",
        "        # `clip_grad_norm` helps prevent the exploding gradient problem in RNNs / LSTMs.\n",
        "        torch.nn.utils.clip_grad_norm_(model.parameters(), clip)\n",
        "        for p in model.parameters():\n",
        "            p.data.add_(p.grad, alpha=-lr)\n",
        "\n",
        "        total_loss += loss.item()\n",
        "\n",
        "        if batch % log_interval == 0 and batch > 0:\n",
        "            cur_loss = total_loss / log_interval\n",
        "            elapsed = time.time() - start_time\n",
        "            print('| epoch {:3d} | {:5d}/{:5d} batches | lr {:02.2f} | ms/batch {:5.2f} | '\n",
        "                    'loss {:5.2f} | ppl {:8.2f}'.format(\n",
        "                epoch, batch, len(train_data) // bptt, lr,\n",
        "                elapsed * 1000 / log_interval, cur_loss, math.exp(cur_loss)))\n",
        "            total_loss = 0\n",
        "            start_time = time.time()\n",
        "        if dry_run:\n",
        "            break\n",
        "\n",
        "def evaluate(data_source):\n",
        "    # Turn on evaluation mode which disables dropout.\n",
        "    model.eval()\n",
        "    total_loss = 0.\n",
        "    ntokens = len(corpus.dictionary)\n",
        "\n",
        "    hidden = model.init_hidden(eval_batch_size)\n",
        "    with torch.no_grad():\n",
        "        for i in range(0, data_source.size(0) - 1, bptt):\n",
        "            data, targets = get_batch(data_source, i)\n",
        "            output, hidden = model(data, hidden)\n",
        "            hidden = repackage_hidden(hidden)\n",
        "            total_loss += len(data) * criterion(output, targets).item()\n",
        "    return total_loss / (len(data_source) - 1)\n",
        "\n",
        "\n",
        "\n",
        "# Loop over epochs.\n",
        "lr = lr\n",
        "best_val_loss = None\n",
        "\n",
        "# At any point you can hit Ctrl + C to break out of training early.\n",
        "try:\n",
        "    for epoch in range(1, epochs+5):\n",
        "        epoch_start_time = time.time()\n",
        "        train()\n",
        "        val_loss = evaluate(val_data)\n",
        "        print('-' * 89)\n",
        "        print('| end of epoch {:3d} | time: {:5.2f}s | valid loss {:5.2f} | '\n",
        "                'valid ppl {:8.2f}'.format(epoch, (time.time() - epoch_start_time),\n",
        "                                           val_loss, math.exp(val_loss)))\n",
        "        print('-' * 89)\n",
        "        # Save the model if the validation loss is the best we've seen so far.\n",
        "        if not best_val_loss or val_loss < best_val_loss:\n",
        "            with open(save, 'wb') as f:\n",
        "                torch.save(model, f)\n",
        "            best_val_loss = val_loss\n",
        "        else:\n",
        "            # Anneal the learning rate if no improvement has been seen in the validation dataset.\n",
        "            lr /= 4.0\n",
        "except KeyboardInterrupt:\n",
        "    print('-' * 89)\n",
        "    print('Exiting from training early')\n",
        "\n",
        "# Load the best saved model.\n",
        "with open(save, 'rb') as f:\n",
        "    model = torch.load(f)\n",
        "    # after load function, the rnn params are not a continuous chunk of memory\n",
        "    # The following line of code makes them a continuous chunk, and will speed up forward pass\n",
        "    # Currently, only rnn model supports flatten_parameters function.\n",
        "    if model in ['RNN_TANH', 'RNN_RELU', 'LSTM', 'GRU']:\n",
        "        model.rnn.flatten_parameters()\n",
        "\n",
        "# Run on test data.\n",
        "test_loss = evaluate(test_data)\n",
        "print('=' * 89)\n",
        "print('| End of training | test loss {:5.2f} | test ppl {:8.2f}'.format(\n",
        "    test_loss, math.exp(test_loss)))\n",
        "print('=' * 89)"
      ]
    },
    {
      "cell_type": "code",
      "execution_count": null,
      "metadata": {
        "colab": {
          "base_uri": "https://localhost:8080/"
        },
        "id": "u5itfgjgOZRB",
        "outputId": "56d6344a-7796-42e3-9806-69c5d6552354"
      },
      "outputs": [
        {
          "name": "stdout",
          "output_type": "stream",
          "text": [
            "| Generated 200/1000 words\n",
            "| Generated 400/1000 words\n",
            "| Generated 600/1000 words\n",
            "| Generated 800/1000 words\n",
            "\n",
            "Output generated\n"
          ]
        }
      ],
      "source": [
        "###############################################################################\n",
        "# Language Modeling on Wikitext-2\n",
        "#\n",
        "# This Code generates new sentences sampled from the language model.\n",
        "#\n",
        "###############################################################################\n",
        "\n",
        "checkpoint =      '/content/gdrive/My Drive/RNN/model.pt'         # Model Checkpoints\n",
        "outfile =         '/content/gdrive/My Drive/RNN/generated.txt'    # Output file for generated text\n",
        "words = 1000                                                          # How many words to generate\n",
        "temperature = 1.0                                                     # Higher temperature will increase diversity among words\n",
        "\n",
        "if temperature < 1e-3:\n",
        "    print(\"--temperature has to be greater or equal 1e-3.\")\n",
        "\n",
        "with open(checkpoint, 'rb') as f:\n",
        "    model = torch.load(f, map_location=device)\n",
        "model.eval()\n",
        "\n",
        "corpus = Corpus(data)\n",
        "ntokens = len(corpus.dictionary)\n",
        "\n",
        "hidden = model.init_hidden(1)                                   # initialize a[0] randomly\n",
        "input = torch.randint(ntokens, (1, 1), dtype=torch.long).to(device)\n",
        "\n",
        "with open(outfile, 'w') as outfile:\n",
        "    with torch.no_grad():  # no tracking history\n",
        "        for i in range(words):\n",
        "            output, hidden = model(input, hidden)                         # Initial input to the sequence generation model is a random number, a[0] is also random.\n",
        "            word_weights = output.squeeze().div(temperature).exp().cpu()  # Softmax probabilities of each word in the corpus.\n",
        "            word_idx = torch.multinomial(word_weights, 1)[0]              # Index of the word (from the corpus) belonging to the highest probability.\n",
        "            input.fill_(word_idx)\n",
        "\n",
        "            word = corpus.dictionary.idx2word[word_idx]\n",
        "\n",
        "            outfile.write(word + ('\\n' if i % 20 == 19 else ' '))\n",
        "\n",
        "            if i % log_interval == 0 and i != 0:\n",
        "                print('| Generated {}/{} words'.format(i, words))\n",
        "\n",
        "    print('\\nOutput generated')"
      ]
    },
    {
      "cell_type": "markdown",
      "metadata": {
        "id": "JdwpFtxK3gRj"
      },
      "source": [
        "Read the generated text file. Does the text make any sense?\n",
        "\n",
        "How can you improve the coherence of the generated text (just write in few sentences?\n",
        "\n"
      ]
    },
    {
      "cell_type": "markdown",
      "metadata": {
        "id": "rsiNL1xrHr1Y"
      },
      "source": [
        "To improve coherence of generated text, we can use attention mechanisms like in the Transformer models. This will allow model to focus on relevant parts of the input."
      ]
    }
  ],
  "metadata": {
    "colab": {
      "provenance": []
    },
    "kernelspec": {
      "display_name": "Python 3",
      "name": "python3"
    },
    "language_info": {
      "name": "python"
    }
  },
  "nbformat": 4,
  "nbformat_minor": 0
}
